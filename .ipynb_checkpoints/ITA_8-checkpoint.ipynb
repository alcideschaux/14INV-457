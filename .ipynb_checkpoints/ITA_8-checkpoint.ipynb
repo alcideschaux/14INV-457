{
 "cells": [
  {
   "cell_type": "markdown",
   "metadata": {},
   "source": [
    "# REPORTE DE RESULTADOS\n",
    "# Proyecto 14INV-457 \"Programa de diagnóstico precoz del cáncer de próstata\"\n",
    "## Informe técnico de avance núm. 7\n",
    "### Reporte de resultados obtenidos hasta el 10-03-2019"
   ]
  },
  {
   "cell_type": "code",
   "execution_count": 1,
   "metadata": {},
   "outputs": [],
   "source": [
    "import numpy as np\n",
    "import pandas as pd\n",
    "\n",
    "from matplotlib import pyplot as plt\n",
    "import seaborn as sns\n",
    "sns.set_theme(rc={'figure.figsize':[12,8]})"
   ]
  },
  {
   "cell_type": "code",
   "execution_count": 2,
   "metadata": {},
   "outputs": [
    {
     "data": {
      "text/html": [
       "<div>\n",
       "<style scoped>\n",
       "    .dataframe tbody tr th:only-of-type {\n",
       "        vertical-align: middle;\n",
       "    }\n",
       "\n",
       "    .dataframe tbody tr th {\n",
       "        vertical-align: top;\n",
       "    }\n",
       "\n",
       "    .dataframe thead th {\n",
       "        text-align: right;\n",
       "    }\n",
       "</style>\n",
       "<table border=\"1\" class=\"dataframe\">\n",
       "  <thead>\n",
       "    <tr style=\"text-align: right;\">\n",
       "      <th></th>\n",
       "      <th>id</th>\n",
       "      <th>fecha_ingreso</th>\n",
       "      <th>ita</th>\n",
       "      <th>edad</th>\n",
       "      <th>ciudad</th>\n",
       "      <th>hta</th>\n",
       "      <th>dm</th>\n",
       "      <th>tumor</th>\n",
       "      <th>tumor_tipo</th>\n",
       "      <th>hp</th>\n",
       "      <th>...</th>\n",
       "      <th>dolor_oseo</th>\n",
       "      <th>psa_valor</th>\n",
       "      <th>psa_limite</th>\n",
       "      <th>psa_categoria</th>\n",
       "      <th>psa_indicacion</th>\n",
       "      <th>bx</th>\n",
       "      <th>bx_fecha</th>\n",
       "      <th>bx_dx</th>\n",
       "      <th>bx_categoria</th>\n",
       "      <th>bx_indicacion</th>\n",
       "    </tr>\n",
       "  </thead>\n",
       "  <tbody>\n",
       "    <tr>\n",
       "      <th>0</th>\n",
       "      <td>377</td>\n",
       "      <td>2018-11-01</td>\n",
       "      <td>7</td>\n",
       "      <td>40.0</td>\n",
       "      <td>Ferndo de la Mora</td>\n",
       "      <td>No</td>\n",
       "      <td>No</td>\n",
       "      <td>No</td>\n",
       "      <td>NaN</td>\n",
       "      <td>No</td>\n",
       "      <td>...</td>\n",
       "      <td>No</td>\n",
       "      <td>0.56</td>\n",
       "      <td>2.5</td>\n",
       "      <td>En rango normal</td>\n",
       "      <td>Repetir en 1-2 años</td>\n",
       "      <td>No</td>\n",
       "      <td>NaT</td>\n",
       "      <td>NaN</td>\n",
       "      <td>NaN</td>\n",
       "      <td>NaN</td>\n",
       "    </tr>\n",
       "    <tr>\n",
       "      <th>1</th>\n",
       "      <td>78</td>\n",
       "      <td>2016-07-28</td>\n",
       "      <td>2</td>\n",
       "      <td>85.0</td>\n",
       "      <td>Luque</td>\n",
       "      <td>No</td>\n",
       "      <td>No</td>\n",
       "      <td>No</td>\n",
       "      <td>NaN</td>\n",
       "      <td>No</td>\n",
       "      <td>...</td>\n",
       "      <td>No</td>\n",
       "      <td>3.10</td>\n",
       "      <td>6.5</td>\n",
       "      <td>En rango normal</td>\n",
       "      <td>Repetir en 1-2 años</td>\n",
       "      <td>No</td>\n",
       "      <td>NaT</td>\n",
       "      <td>NaN</td>\n",
       "      <td>NaN</td>\n",
       "      <td>NaN</td>\n",
       "    </tr>\n",
       "    <tr>\n",
       "      <th>3</th>\n",
       "      <td>272</td>\n",
       "      <td>2018-10-29</td>\n",
       "      <td>7</td>\n",
       "      <td>53.0</td>\n",
       "      <td>San Lorenzo</td>\n",
       "      <td>No</td>\n",
       "      <td>Sí</td>\n",
       "      <td>No</td>\n",
       "      <td>NaN</td>\n",
       "      <td>No</td>\n",
       "      <td>...</td>\n",
       "      <td>No</td>\n",
       "      <td>2.85</td>\n",
       "      <td>3.5</td>\n",
       "      <td>En rango normal</td>\n",
       "      <td>Repetir en 1-2 años</td>\n",
       "      <td>No</td>\n",
       "      <td>NaT</td>\n",
       "      <td>NaN</td>\n",
       "      <td>NaN</td>\n",
       "      <td>NaN</td>\n",
       "    </tr>\n",
       "    <tr>\n",
       "      <th>5</th>\n",
       "      <td>46</td>\n",
       "      <td>2016-06-10</td>\n",
       "      <td>2</td>\n",
       "      <td>57.0</td>\n",
       "      <td>Luque</td>\n",
       "      <td>No</td>\n",
       "      <td>No</td>\n",
       "      <td>No</td>\n",
       "      <td>NaN</td>\n",
       "      <td>No</td>\n",
       "      <td>...</td>\n",
       "      <td>No</td>\n",
       "      <td>1.58</td>\n",
       "      <td>3.5</td>\n",
       "      <td>En rango normal</td>\n",
       "      <td>Repetir en 1-2 años</td>\n",
       "      <td>No</td>\n",
       "      <td>NaT</td>\n",
       "      <td>NaN</td>\n",
       "      <td>NaN</td>\n",
       "      <td>NaN</td>\n",
       "    </tr>\n",
       "    <tr>\n",
       "      <th>8</th>\n",
       "      <td>158</td>\n",
       "      <td>2016-09-08</td>\n",
       "      <td>2</td>\n",
       "      <td>57.0</td>\n",
       "      <td>Itá</td>\n",
       "      <td>No</td>\n",
       "      <td>No</td>\n",
       "      <td>No</td>\n",
       "      <td>NaN</td>\n",
       "      <td>No</td>\n",
       "      <td>...</td>\n",
       "      <td>No</td>\n",
       "      <td>1.71</td>\n",
       "      <td>3.5</td>\n",
       "      <td>En rango normal</td>\n",
       "      <td>Repetir en 1-2 años</td>\n",
       "      <td>No</td>\n",
       "      <td>NaT</td>\n",
       "      <td>NaN</td>\n",
       "      <td>NaN</td>\n",
       "      <td>NaN</td>\n",
       "    </tr>\n",
       "  </tbody>\n",
       "</table>\n",
       "<p>5 rows × 37 columns</p>\n",
       "</div>"
      ],
      "text/plain": [
       "    id fecha_ingreso  ita  edad             ciudad hta  dm tumor tumor_tipo  \\\n",
       "0  377    2018-11-01    7  40.0  Ferndo de la Mora  No  No    No        NaN   \n",
       "1   78    2016-07-28    2  85.0              Luque  No  No    No        NaN   \n",
       "3  272    2018-10-29    7  53.0        San Lorenzo  No  Sí    No        NaN   \n",
       "5   46    2016-06-10    2  57.0              Luque  No  No    No        NaN   \n",
       "8  158    2016-09-08    2  57.0                Itá  No  No    No        NaN   \n",
       "\n",
       "   hp  ... dolor_oseo psa_valor  psa_limite    psa_categoria  \\\n",
       "0  No  ...         No      0.56         2.5  En rango normal   \n",
       "1  No  ...         No      3.10         6.5  En rango normal   \n",
       "3  No  ...         No      2.85         3.5  En rango normal   \n",
       "5  No  ...         No      1.58         3.5  En rango normal   \n",
       "8  No  ...         No      1.71         3.5  En rango normal   \n",
       "\n",
       "        psa_indicacion  bx bx_fecha  bx_dx bx_categoria  bx_indicacion  \n",
       "0  Repetir en 1-2 años  No      NaT    NaN          NaN            NaN  \n",
       "1  Repetir en 1-2 años  No      NaT    NaN          NaN            NaN  \n",
       "3  Repetir en 1-2 años  No      NaT    NaN          NaN            NaN  \n",
       "5  Repetir en 1-2 años  No      NaT    NaN          NaN            NaN  \n",
       "8  Repetir en 1-2 años  No      NaT    NaN          NaN            NaN  \n",
       "\n",
       "[5 rows x 37 columns]"
      ]
     },
     "execution_count": 2,
     "metadata": {},
     "output_type": "execute_result"
    }
   ],
   "source": [
    "df = pd.read_pickle('ITA_7.pkl')\n",
    "df.head()"
   ]
  },
  {
   "cell_type": "code",
   "execution_count": 3,
   "metadata": {},
   "outputs": [
    {
     "name": "stdout",
     "output_type": "stream",
     "text": [
      "<class 'pandas.core.frame.DataFrame'>\n",
      "Int64Index: 294 entries, 0 to 564\n",
      "Data columns (total 37 columns):\n",
      " #   Column           Non-Null Count  Dtype         \n",
      "---  ------           --------------  -----         \n",
      " 0   id               294 non-null    int64         \n",
      " 1   fecha_ingreso    294 non-null    datetime64[ns]\n",
      " 2   ita              294 non-null    int64         \n",
      " 3   edad             286 non-null    float64       \n",
      " 4   ciudad           290 non-null    object        \n",
      " 5   hta              287 non-null    object        \n",
      " 6   dm               288 non-null    object        \n",
      " 7   tumor            288 non-null    object        \n",
      " 8   tumor_tipo       3 non-null      object        \n",
      " 9   hp               288 non-null    object        \n",
      " 10  tumor_fam        288 non-null    object        \n",
      " 11  tumor_fam_tipo   39 non-null     object        \n",
      " 12  peso             238 non-null    float64       \n",
      " 13  estatura         238 non-null    float64       \n",
      " 14  tabaco           289 non-null    object        \n",
      " 15  tabaco_cantidad  265 non-null    float64       \n",
      " 16  carne            290 non-null    object        \n",
      " 17  carne_frec       261 non-null    float64       \n",
      " 18  verdura          290 non-null    object        \n",
      " 19  verdura_frec     258 non-null    float64       \n",
      " 20  ejercicio        289 non-null    object        \n",
      " 21  ejercicio_frec   263 non-null    float64       \n",
      " 22  miccion_inicio   290 non-null    object        \n",
      " 23  miccion_lenta    290 non-null    object        \n",
      " 24  miccion_frec     290 non-null    object        \n",
      " 25  nicturia         290 non-null    object        \n",
      " 26  hematuria        290 non-null    object        \n",
      " 27  dolor_oseo       290 non-null    object        \n",
      " 28  psa_valor        294 non-null    float64       \n",
      " 29  psa_limite       294 non-null    float64       \n",
      " 30  psa_categoria    294 non-null    object        \n",
      " 31  psa_indicacion   294 non-null    object        \n",
      " 32  bx               294 non-null    object        \n",
      " 33  bx_fecha         7 non-null      datetime64[ns]\n",
      " 34  bx_dx            7 non-null      object        \n",
      " 35  bx_categoria     7 non-null      object        \n",
      " 36  bx_indicacion    7 non-null      object        \n",
      "dtypes: datetime64[ns](2), float64(9), int64(2), object(24)\n",
      "memory usage: 87.3+ KB\n"
     ]
    }
   ],
   "source": [
    "df.info()"
   ]
  },
  {
   "cell_type": "code",
   "execution_count": 4,
   "metadata": {},
   "outputs": [
    {
     "data": {
      "text/plain": [
       "(294, 37)"
      ]
     },
     "execution_count": 4,
     "metadata": {},
     "output_type": "execute_result"
    }
   ],
   "source": [
    "df.shape"
   ]
  },
  {
   "cell_type": "markdown",
   "metadata": {},
   "source": [
    "# Datos demográficos"
   ]
  },
  {
   "cell_type": "markdown",
   "metadata": {},
   "source": [
    "## Edad"
   ]
  },
  {
   "cell_type": "code",
   "execution_count": 5,
   "metadata": {},
   "outputs": [
    {
     "data": {
      "text/plain": [
       "count    286.0\n",
       "mean      59.0\n",
       "std       13.0\n",
       "min       36.0\n",
       "25%       49.0\n",
       "50%       57.0\n",
       "75%       67.0\n",
       "max       95.0\n",
       "Name: edad, dtype: float64"
      ]
     },
     "execution_count": 5,
     "metadata": {},
     "output_type": "execute_result"
    }
   ],
   "source": [
    "df['edad'].describe().round()"
   ]
  },
  {
   "cell_type": "code",
   "execution_count": 6,
   "metadata": {},
   "outputs": [
    {
     "data": {
      "image/png": "[encoded data removed]",
      "text/plain": [
       "<Figure size 864x576 with 1 Axes>"
      ]
     },
     "metadata": {},
     "output_type": "display_data"
    }
   ],
   "source": [
    "sns.histplot(x='edad', data=df)\n",
    "plt.xlabel('Edad, en años')\n",
    "plt.ylabel('Núm. pacientes')\n",
    "plt.show()"
   ]
  },
  {
   "cell_type": "markdown",
   "metadata": {},
   "source": [
    "## Procedencia"
   ]
  },
  {
   "cell_type": "code",
   "execution_count": 7,
   "metadata": {},
   "outputs": [
    {
     "data": {
      "text/plain": [
       "Asunción                94\n",
       "Luque                   41\n",
       "Capiatá                 18\n",
       "San Lorenzo             18\n",
       "Lambaré                 17\n",
       "Ferndo de la Mora       14\n",
       "Villa Elisa             13\n",
       "Mariano Roque Alonso    12\n",
       "Itá                     10\n",
       "Ñemby                    7\n",
       "Name: ciudad, dtype: int64"
      ]
     },
     "execution_count": 7,
     "metadata": {},
     "output_type": "execute_result"
    }
   ],
   "source": [
    "# Las 10 ciudades de procedencia más frecuentes\n",
    "df['ciudad'].value_counts().head(10)"
   ]
  },
  {
   "cell_type": "markdown",
   "metadata": {},
   "source": [
    "# Datos antropométricos"
   ]
  },
  {
   "cell_type": "markdown",
   "metadata": {},
   "source": [
    "## Peso, en Kg"
   ]
  },
  {
   "cell_type": "code",
   "execution_count": 8,
   "metadata": {},
   "outputs": [
    {
     "data": {
      "text/plain": [
       "count    238.0\n",
       "mean      87.0\n",
       "std       16.0\n",
       "min       50.0\n",
       "25%       78.0\n",
       "50%       85.0\n",
       "75%       97.0\n",
       "max      143.0\n",
       "Name: peso, dtype: float64"
      ]
     },
     "execution_count": 8,
     "metadata": {},
     "output_type": "execute_result"
    }
   ],
   "source": [
    "df['peso'].describe().round()"
   ]
  },
  {
   "cell_type": "code",
   "execution_count": 9,
   "metadata": {},
   "outputs": [
    {
     "data": {
      "image/png": "[encoded data removed]",
      "text/plain": [
       "<Figure size 864x576 with 1 Axes>"
      ]
     },
     "metadata": {},
     "output_type": "display_data"
    }
   ],
   "source": [
    "sns.histplot(x='peso', data=df)\n",
    "plt.xlabel('Peso corporal, en Kg')\n",
    "plt.ylabel('Núm. pacientes')\n",
    "plt.show()"
   ]
  },
  {
   "cell_type": "markdown",
   "metadata": {},
   "source": [
    "## Estatura, en cm"
   ]
  },
  {
   "cell_type": "code",
   "execution_count": 10,
   "metadata": {},
   "outputs": [
    {
     "data": {
      "text/plain": [
       "count    238.0\n",
       "mean     172.0\n",
       "std        7.0\n",
       "min      150.0\n",
       "25%      168.0\n",
       "50%      172.0\n",
       "75%      178.0\n",
       "max      198.0\n",
       "Name: estatura, dtype: float64"
      ]
     },
     "execution_count": 10,
     "metadata": {},
     "output_type": "execute_result"
    }
   ],
   "source": [
    "df['estatura'].describe().round()"
   ]
  },
  {
   "cell_type": "code",
   "execution_count": 11,
   "metadata": {},
   "outputs": [
    {
     "data": {
      "image/png": "[encoded data removed]",
      "text/plain": [
       "<Figure size 864x576 with 1 Axes>"
      ]
     },
     "metadata": {},
     "output_type": "display_data"
    }
   ],
   "source": [
    "sns.histplot(x='estatura', data=df)\n",
    "plt.xlabel('Estatura, en cm')\n",
    "plt.ylabel('Núm. pacientes')\n",
    "plt.show()"
   ]
  },
  {
   "cell_type": "markdown",
   "metadata": {},
   "source": [
    "## Índice de masa corporal"
   ]
  },
  {
   "cell_type": "code",
   "execution_count": 12,
   "metadata": {},
   "outputs": [
    {
     "data": {
      "text/plain": [
       "count    236.0\n",
       "mean      29.0\n",
       "std        4.0\n",
       "min       19.0\n",
       "25%       26.0\n",
       "50%       29.0\n",
       "75%       32.0\n",
       "max       43.0\n",
       "Name: imc, dtype: float64"
      ]
     },
     "execution_count": 12,
     "metadata": {},
     "output_type": "execute_result"
    }
   ],
   "source": [
    "df['imc'] = df['peso']/(df['estatura']/100)**2\n",
    "df['imc'].describe().round()"
   ]
  },
  {
   "cell_type": "code",
   "execution_count": 13,
   "metadata": {},
   "outputs": [
    {
     "data": {
      "image/png": "[encoded data removed]",
      "text/plain": [
       "<Figure size 864x576 with 1 Axes>"
      ]
     },
     "metadata": {},
     "output_type": "display_data"
    }
   ],
   "source": [
    "sns.histplot(x='imc', data=df)\n",
    "plt.xlabel('Índice de masa corporal')\n",
    "plt.ylabel('Núm. pacientes')\n",
    "plt.show()"
   ]
  },
  {
   "cell_type": "markdown",
   "metadata": {},
   "source": [
    "# Antecedentes patológicos\n",
    "## Hipertensión arterial"
   ]
  },
  {
   "cell_type": "code",
   "execution_count": 14,
   "metadata": {},
   "outputs": [
    {
     "data": {
      "text/plain": [
       "Sí    108\n",
       "No    179\n",
       "Name: hta, dtype: int64"
      ]
     },
     "execution_count": 14,
     "metadata": {},
     "output_type": "execute_result"
    }
   ],
   "source": [
    "df['hta'].value_counts(sort=False)"
   ]
  },
  {
   "cell_type": "code",
   "execution_count": 15,
   "metadata": {},
   "outputs": [
    {
     "data": {
      "text/plain": [
       "Sí    0.38\n",
       "No    0.62\n",
       "Name: hta, dtype: float64"
      ]
     },
     "execution_count": 15,
     "metadata": {},
     "output_type": "execute_result"
    }
   ],
   "source": [
    "df['hta'].value_counts(sort=False, normalize=True).round(2)"
   ]
  },
  {
   "cell_type": "code",
   "execution_count": 16,
   "metadata": {},
   "outputs": [
    {
     "data": {
      "image/png": "[encoded data removed]",
      "text/plain": [
       "<Figure size 864x576 with 1 Axes>"
      ]
     },
     "metadata": {},
     "output_type": "display_data"
    }
   ],
   "source": [
    "sns.countplot(x='hta', data=df)\n",
    "plt.xlabel('Hipertensión arterial')\n",
    "plt.ylabel('Núm. pacientes')\n",
    "plt.show()"
   ]
  },
  {
   "cell_type": "markdown",
   "metadata": {},
   "source": [
    "## Diabetes mellitus"
   ]
  },
  {
   "cell_type": "code",
   "execution_count": 17,
   "metadata": {},
   "outputs": [
    {
     "data": {
      "text/plain": [
       "Sí     31\n",
       "No    257\n",
       "Name: dm, dtype: int64"
      ]
     },
     "execution_count": 17,
     "metadata": {},
     "output_type": "execute_result"
    }
   ],
   "source": [
    "df['dm'].value_counts(sort=False)"
   ]
  },
  {
   "cell_type": "code",
   "execution_count": 18,
   "metadata": {},
   "outputs": [
    {
     "data": {
      "text/plain": [
       "Sí    0.11\n",
       "No    0.89\n",
       "Name: dm, dtype: float64"
      ]
     },
     "execution_count": 18,
     "metadata": {},
     "output_type": "execute_result"
    }
   ],
   "source": [
    "df['dm'].value_counts(sort=False, normalize=True).round(2)"
   ]
  },
  {
   "cell_type": "code",
   "execution_count": 19,
   "metadata": {},
   "outputs": [
    {
     "data": {
      "image/png": "[encoded data removed]",
      "text/plain": [
       "<Figure size 864x576 with 1 Axes>"
      ]
     },
     "metadata": {},
     "output_type": "display_data"
    }
   ],
   "source": [
    "sns.countplot(x='dm', data=df)\n",
    "plt.xlabel('Diabetes mellitus')\n",
    "plt.ylabel('Núm. pacientes')\n",
    "plt.show()"
   ]
  },
  {
   "cell_type": "markdown",
   "metadata": {},
   "source": [
    "## Tumor no prostático"
   ]
  },
  {
   "cell_type": "code",
   "execution_count": 20,
   "metadata": {},
   "outputs": [
    {
     "data": {
      "text/plain": [
       "Sí      5\n",
       "No    283\n",
       "Name: tumor, dtype: int64"
      ]
     },
     "execution_count": 20,
     "metadata": {},
     "output_type": "execute_result"
    }
   ],
   "source": [
    "df['tumor'].value_counts(sort=False)"
   ]
  },
  {
   "cell_type": "code",
   "execution_count": 21,
   "metadata": {},
   "outputs": [
    {
     "data": {
      "text/plain": [
       "Sí    0.02\n",
       "No    0.98\n",
       "Name: tumor, dtype: float64"
      ]
     },
     "execution_count": 21,
     "metadata": {},
     "output_type": "execute_result"
    }
   ],
   "source": [
    "df['tumor'].value_counts(sort=False, normalize=True).round(2)"
   ]
  },
  {
   "cell_type": "code",
   "execution_count": 22,
   "metadata": {},
   "outputs": [
    {
     "data": {
      "image/png": "[encoded data removed]",
      "text/plain": [
       "<Figure size 864x576 with 1 Axes>"
      ]
     },
     "metadata": {},
     "output_type": "display_data"
    }
   ],
   "source": [
    "sns.countplot(x='tumor', data=df)\n",
    "plt.xlabel('Antecedente de tumor no prostático')\n",
    "plt.ylabel('Núm. pacientes')\n",
    "plt.show()"
   ]
  },
  {
   "cell_type": "markdown",
   "metadata": {},
   "source": [
    "## Tipo de tumor no prostático"
   ]
  },
  {
   "cell_type": "code",
   "execution_count": 23,
   "metadata": {},
   "outputs": [
    {
     "data": {
      "text/plain": [
       "Mieloma múltiple     1\n",
       "Pólipos colónicos    1\n",
       "Tiroides             1\n",
       "Name: tumor_tipo, dtype: int64"
      ]
     },
     "execution_count": 23,
     "metadata": {},
     "output_type": "execute_result"
    }
   ],
   "source": [
    "df['tumor_tipo'].value_counts()"
   ]
  },
  {
   "cell_type": "markdown",
   "metadata": {},
   "source": [
    "## Hiperplasia prostática"
   ]
  },
  {
   "cell_type": "code",
   "execution_count": 24,
   "metadata": {},
   "outputs": [
    {
     "data": {
      "text/plain": [
       "Sí     24\n",
       "No    264\n",
       "Name: hp, dtype: int64"
      ]
     },
     "execution_count": 24,
     "metadata": {},
     "output_type": "execute_result"
    }
   ],
   "source": [
    "df['hp'].value_counts(sort=False)"
   ]
  },
  {
   "cell_type": "code",
   "execution_count": 25,
   "metadata": {},
   "outputs": [
    {
     "data": {
      "text/plain": [
       "Sí    0.08\n",
       "No    0.92\n",
       "Name: hp, dtype: float64"
      ]
     },
     "execution_count": 25,
     "metadata": {},
     "output_type": "execute_result"
    }
   ],
   "source": [
    "df['hp'].value_counts(sort=False, normalize=True).round(2)"
   ]
  },
  {
   "cell_type": "code",
   "execution_count": 26,
   "metadata": {},
   "outputs": [
    {
     "data": {
      "image/png": "[encoded data removed]",
      "text/plain": [
       "<Figure size 864x576 with 1 Axes>"
      ]
     },
     "metadata": {},
     "output_type": "display_data"
    }
   ],
   "source": [
    "sns.countplot(x='hp', data=df)\n",
    "plt.xlabel('Antecedente de hiperplasia prostática')\n",
    "plt.ylabel('Núm. pacientes')\n",
    "plt.show()"
   ]
  },
  {
   "cell_type": "markdown",
   "metadata": {},
   "source": [
    "## Cáncer de próstata familiar"
   ]
  },
  {
   "cell_type": "code",
   "execution_count": 27,
   "metadata": {},
   "outputs": [
    {
     "data": {
      "text/plain": [
       "Sí     41\n",
       "No    247\n",
       "Name: tumor_fam, dtype: int64"
      ]
     },
     "execution_count": 27,
     "metadata": {},
     "output_type": "execute_result"
    }
   ],
   "source": [
    "df['tumor_fam'].value_counts(sort=False)"
   ]
  },
  {
   "cell_type": "code",
   "execution_count": 28,
   "metadata": {},
   "outputs": [
    {
     "data": {
      "text/plain": [
       "Sí    0.14\n",
       "No    0.86\n",
       "Name: tumor_fam, dtype: float64"
      ]
     },
     "execution_count": 28,
     "metadata": {},
     "output_type": "execute_result"
    }
   ],
   "source": [
    "df['tumor_fam'].value_counts(sort=False, normalize=True).round(2)"
   ]
  },
  {
   "cell_type": "code",
   "execution_count": 29,
   "metadata": {},
   "outputs": [
    {
     "data": {
      "image/png": "[encoded data removed]",
      "text/plain": [
       "<Figure size 864x576 with 1 Axes>"
      ]
     },
     "metadata": {},
     "output_type": "display_data"
    }
   ],
   "source": [
    "sns.countplot(x='tumor_fam', data=df)\n",
    "plt.xlabel('Antecedente de cáncer de próstata en la familia')\n",
    "plt.ylabel('Núm. pacientes')\n",
    "plt.show()"
   ]
  },
  {
   "cell_type": "markdown",
   "metadata": {},
   "source": [
    "## Familiar con cáncer de próstata"
   ]
  },
  {
   "cell_type": "code",
   "execution_count": 30,
   "metadata": {},
   "outputs": [
    {
     "data": {
      "text/plain": [
       "Padre         27\n",
       "Tío            4\n",
       "Abuelo         3\n",
       "Hermano        3\n",
       "Primo          1\n",
       "Tío abuelo     1\n",
       "Name: tumor_fam_tipo, dtype: int64"
      ]
     },
     "execution_count": 30,
     "metadata": {},
     "output_type": "execute_result"
    }
   ],
   "source": [
    "df['tumor_fam_tipo'].value_counts()"
   ]
  },
  {
   "cell_type": "code",
   "execution_count": 31,
   "metadata": {},
   "outputs": [
    {
     "data": {
      "text/plain": [
       "Padre         0.69\n",
       "Tío           0.10\n",
       "Abuelo        0.08\n",
       "Hermano       0.08\n",
       "Primo         0.03\n",
       "Tío abuelo    0.03\n",
       "Name: tumor_fam_tipo, dtype: float64"
      ]
     },
     "execution_count": 31,
     "metadata": {},
     "output_type": "execute_result"
    }
   ],
   "source": [
    "df['tumor_fam_tipo'].value_counts(normalize=True).round(2)"
   ]
  },
  {
   "cell_type": "code",
   "execution_count": 32,
   "metadata": {},
   "outputs": [
    {
     "data": {
      "image/png": "[encoded data removed]",
      "text/plain": [
       "<Figure size 864x576 with 1 Axes>"
      ]
     },
     "metadata": {},
     "output_type": "display_data"
    }
   ],
   "source": [
    "sns.countplot(x='tumor_fam_tipo', data=df)\n",
    "plt.xlabel('Familiar con cáncer de próstata')\n",
    "plt.ylabel('Núm. pacientes')\n",
    "plt.show()"
   ]
  },
  {
   "cell_type": "markdown",
   "metadata": {},
   "source": [
    "# Hábitos personales"
   ]
  },
  {
   "cell_type": "markdown",
   "metadata": {},
   "source": [
    "## Consumo de tabaco"
   ]
  },
  {
   "cell_type": "code",
   "execution_count": 33,
   "metadata": {},
   "outputs": [
    {
     "data": {
      "text/plain": [
       "Sí     55\n",
       "No    234\n",
       "Name: tabaco, dtype: int64"
      ]
     },
     "execution_count": 33,
     "metadata": {},
     "output_type": "execute_result"
    }
   ],
   "source": [
    "df['tabaco'].value_counts(sort=False)"
   ]
  },
  {
   "cell_type": "code",
   "execution_count": 34,
   "metadata": {},
   "outputs": [
    {
     "data": {
      "text/plain": [
       "Sí    0.19\n",
       "No    0.81\n",
       "Name: tabaco, dtype: float64"
      ]
     },
     "execution_count": 34,
     "metadata": {},
     "output_type": "execute_result"
    }
   ],
   "source": [
    "df['tabaco'].value_counts(sort=False, normalize=True).round(2)"
   ]
  },
  {
   "cell_type": "code",
   "execution_count": 35,
   "metadata": {},
   "outputs": [
    {
     "data": {
      "image/png": "[encoded data removed]",
      "text/plain": [
       "<Figure size 864x576 with 1 Axes>"
      ]
     },
     "metadata": {},
     "output_type": "display_data"
    }
   ],
   "source": [
    "sns.countplot(x='tabaco', data=df)\n",
    "plt.xlabel('Consumo de tabaco (cigarillos)')\n",
    "plt.ylabel('Núm. pacientes')\n",
    "plt.show()"
   ]
  },
  {
   "cell_type": "code",
   "execution_count": 36,
   "metadata": {},
   "outputs": [
    {
     "data": {
      "text/plain": [
       "count    265.0\n",
       "mean       2.0\n",
       "std        5.0\n",
       "min        0.0\n",
       "25%        0.0\n",
       "50%        0.0\n",
       "75%        0.0\n",
       "max       40.0\n",
       "Name: tabaco_cantidad, dtype: float64"
      ]
     },
     "execution_count": 36,
     "metadata": {},
     "output_type": "execute_result"
    }
   ],
   "source": [
    "df['tabaco_cantidad'].describe().round()"
   ]
  },
  {
   "cell_type": "code",
   "execution_count": 37,
   "metadata": {},
   "outputs": [
    {
     "data": {
      "image/png": "[encoded data removed]",
      "text/plain": [
       "<Figure size 864x576 with 1 Axes>"
      ]
     },
     "metadata": {},
     "output_type": "display_data"
    }
   ],
   "source": [
    "sns.histplot(x='tabaco_cantidad', data=df)\n",
    "plt.xlabel('Cantidad de cigarrillos/semana')\n",
    "plt.ylabel('Núm. pacientes')\n",
    "plt.show()"
   ]
  },
  {
   "cell_type": "markdown",
   "metadata": {},
   "source": [
    "## Consumo de carne"
   ]
  },
  {
   "cell_type": "code",
   "execution_count": 38,
   "metadata": {},
   "outputs": [
    {
     "data": {
      "text/plain": [
       "Sí    282\n",
       "No      8\n",
       "Name: carne, dtype: int64"
      ]
     },
     "execution_count": 38,
     "metadata": {},
     "output_type": "execute_result"
    }
   ],
   "source": [
    "df['carne'].value_counts(sort=False)"
   ]
  },
  {
   "cell_type": "code",
   "execution_count": 39,
   "metadata": {},
   "outputs": [
    {
     "data": {
      "text/plain": [
       "Sí    0.97\n",
       "No    0.03\n",
       "Name: carne, dtype: float64"
      ]
     },
     "execution_count": 39,
     "metadata": {},
     "output_type": "execute_result"
    }
   ],
   "source": [
    "df['carne'].value_counts(sort=False, normalize=True).round(2)"
   ]
  },
  {
   "cell_type": "code",
   "execution_count": 40,
   "metadata": {},
   "outputs": [
    {
     "data": {
      "image/png": "[encoded data removed]",
      "text/plain": [
       "<Figure size 864x576 with 1 Axes>"
      ]
     },
     "metadata": {},
     "output_type": "display_data"
    }
   ],
   "source": [
    "sns.countplot(x='carne', data=df)\n",
    "plt.xlabel('Consumo de carne')\n",
    "plt.ylabel('Núm. pacientes')\n",
    "plt.show()"
   ]
  },
  {
   "cell_type": "code",
   "execution_count": 41,
   "metadata": {},
   "outputs": [
    {
     "data": {
      "text/plain": [
       "count    261.0\n",
       "mean       4.0\n",
       "std        2.0\n",
       "min        0.0\n",
       "25%        2.0\n",
       "50%        3.0\n",
       "75%        5.0\n",
       "max        7.0\n",
       "Name: carne_frec, dtype: float64"
      ]
     },
     "execution_count": 41,
     "metadata": {},
     "output_type": "execute_result"
    }
   ],
   "source": [
    "df['carne_frec'].describe().round()"
   ]
  },
  {
   "cell_type": "code",
   "execution_count": 42,
   "metadata": {},
   "outputs": [
    {
     "data": {
      "image/png": "[encoded data removed]",
      "text/plain": [
       "<Figure size 864x576 with 1 Axes>"
      ]
     },
     "metadata": {},
     "output_type": "display_data"
    }
   ],
   "source": [
    "sns.histplot(x='carne_frec', data=df)\n",
    "plt.xlabel('Consumo de carne/semana')\n",
    "plt.ylabel('Núm. pacientes')\n",
    "plt.show()"
   ]
  },
  {
   "cell_type": "markdown",
   "metadata": {},
   "source": [
    "## Consumo de frutas/verduras"
   ]
  },
  {
   "cell_type": "code",
   "execution_count": 43,
   "metadata": {},
   "outputs": [
    {
     "data": {
      "text/plain": [
       "Sí    282\n",
       "No      8\n",
       "Name: verdura, dtype: int64"
      ]
     },
     "execution_count": 43,
     "metadata": {},
     "output_type": "execute_result"
    }
   ],
   "source": [
    "df['verdura'].value_counts(sort=False)"
   ]
  },
  {
   "cell_type": "code",
   "execution_count": 44,
   "metadata": {},
   "outputs": [
    {
     "data": {
      "text/plain": [
       "Sí    0.97\n",
       "No    0.03\n",
       "Name: verdura, dtype: float64"
      ]
     },
     "execution_count": 44,
     "metadata": {},
     "output_type": "execute_result"
    }
   ],
   "source": [
    "df['verdura'].value_counts(sort=False, normalize=True).round(2)"
   ]
  },
  {
   "cell_type": "code",
   "execution_count": 45,
   "metadata": {},
   "outputs": [
    {
     "data": {
      "image/png": "[encoded data removed]",
      "text/plain": [
       "<Figure size 864x576 with 1 Axes>"
      ]
     },
     "metadata": {},
     "output_type": "display_data"
    }
   ],
   "source": [
    "sns.countplot(x='verdura', data=df)\n",
    "plt.xlabel('Consumo de frutas o verduras')\n",
    "plt.ylabel('Núm. pacientes')\n",
    "plt.show()"
   ]
  },
  {
   "cell_type": "code",
   "execution_count": 46,
   "metadata": {},
   "outputs": [
    {
     "data": {
      "text/plain": [
       "count    258.0\n",
       "mean       5.0\n",
       "std        2.0\n",
       "min        0.0\n",
       "25%        3.0\n",
       "50%        5.0\n",
       "75%        7.0\n",
       "max        7.0\n",
       "Name: verdura_frec, dtype: float64"
      ]
     },
     "execution_count": 46,
     "metadata": {},
     "output_type": "execute_result"
    }
   ],
   "source": [
    "df['verdura_frec'].describe().round()"
   ]
  },
  {
   "cell_type": "code",
   "execution_count": 47,
   "metadata": {},
   "outputs": [
    {
     "data": {
      "image/png": "[encoded data removed]",
      "text/plain": [
       "<Figure size 864x576 with 1 Axes>"
      ]
     },
     "metadata": {},
     "output_type": "display_data"
    }
   ],
   "source": [
    "sns.histplot(x='verdura_frec', data=df)\n",
    "plt.xlabel('Consumo de frutas o verduras/semana')\n",
    "plt.ylabel('Núm. pacientes')\n",
    "plt.show()"
   ]
  },
  {
   "cell_type": "markdown",
   "metadata": {},
   "source": [
    "## Actividad física"
   ]
  },
  {
   "cell_type": "code",
   "execution_count": 48,
   "metadata": {},
   "outputs": [
    {
     "data": {
      "text/plain": [
       "Sí    141\n",
       "No    148\n",
       "Name: ejercicio, dtype: int64"
      ]
     },
     "execution_count": 48,
     "metadata": {},
     "output_type": "execute_result"
    }
   ],
   "source": [
    "df['ejercicio'].value_counts(sort=False)"
   ]
  },
  {
   "cell_type": "code",
   "execution_count": 49,
   "metadata": {},
   "outputs": [
    {
     "data": {
      "text/plain": [
       "Sí    0.49\n",
       "No    0.51\n",
       "Name: ejercicio, dtype: float64"
      ]
     },
     "execution_count": 49,
     "metadata": {},
     "output_type": "execute_result"
    }
   ],
   "source": [
    "df['ejercicio'].value_counts(sort=False, normalize=True).round(2)"
   ]
  },
  {
   "cell_type": "code",
   "execution_count": 50,
   "metadata": {},
   "outputs": [
    {
     "data": {
      "image/png": "[encoded data removed]",
      "text/plain": [
       "<Figure size 864x576 with 1 Axes>"
      ]
     },
     "metadata": {},
     "output_type": "display_data"
    }
   ],
   "source": [
    "sns.countplot(x='ejercicio', data=df)\n",
    "plt.xlabel('Realización de ejercicios físicos')\n",
    "plt.ylabel('Núm. pacientes')\n",
    "plt.show()"
   ]
  },
  {
   "cell_type": "code",
   "execution_count": 51,
   "metadata": {},
   "outputs": [
    {
     "data": {
      "text/plain": [
       "count    263.0\n",
       "mean       2.0\n",
       "std        2.0\n",
       "min        0.0\n",
       "25%        0.0\n",
       "50%        0.0\n",
       "75%        3.0\n",
       "max        7.0\n",
       "Name: ejercicio_frec, dtype: float64"
      ]
     },
     "execution_count": 51,
     "metadata": {},
     "output_type": "execute_result"
    }
   ],
   "source": [
    "df['ejercicio_frec'].describe().round()"
   ]
  },
  {
   "cell_type": "code",
   "execution_count": 52,
   "metadata": {},
   "outputs": [
    {
     "data": {
      "image/png": "[encoded data removed]",
      "text/plain": [
       "<Figure size 864x576 with 1 Axes>"
      ]
     },
     "metadata": {},
     "output_type": "display_data"
    }
   ],
   "source": [
    "sns.histplot(x='ejercicio_frec', data=df)\n",
    "plt.xlabel('Realización de ejercicio físicos/semana')\n",
    "plt.ylabel('Núm. pacientes')\n",
    "plt.show()"
   ]
  },
  {
   "cell_type": "markdown",
   "metadata": {},
   "source": [
    "# Síntomas urinarios"
   ]
  },
  {
   "cell_type": "markdown",
   "metadata": {},
   "source": [
    "## Dificultad para empezar a orinar"
   ]
  },
  {
   "cell_type": "code",
   "execution_count": 53,
   "metadata": {},
   "outputs": [
    {
     "data": {
      "text/plain": [
       "Sí     44\n",
       "No    246\n",
       "Name: miccion_inicio, dtype: int64"
      ]
     },
     "execution_count": 53,
     "metadata": {},
     "output_type": "execute_result"
    }
   ],
   "source": [
    "df['miccion_inicio'].value_counts(sort=False)"
   ]
  },
  {
   "cell_type": "code",
   "execution_count": 54,
   "metadata": {},
   "outputs": [
    {
     "data": {
      "text/plain": [
       "Sí    0.15\n",
       "No    0.85\n",
       "Name: miccion_inicio, dtype: float64"
      ]
     },
     "execution_count": 54,
     "metadata": {},
     "output_type": "execute_result"
    }
   ],
   "source": [
    "df['miccion_inicio'].value_counts(sort=False, normalize=True).round(2)"
   ]
  },
  {
   "cell_type": "code",
   "execution_count": 55,
   "metadata": {},
   "outputs": [
    {
     "data": {
      "image/png": "[encoded data removed]",
      "text/plain": [
       "<Figure size 864x576 with 1 Axes>"
      ]
     },
     "metadata": {},
     "output_type": "display_data"
    }
   ],
   "source": [
    "sns.countplot(x='miccion_inicio', data=df)\n",
    "plt.xlabel('Dificultad para iniciar la micción')\n",
    "plt.ylabel('Núm. pacientes')\n",
    "plt.show()"
   ]
  },
  {
   "cell_type": "markdown",
   "metadata": {},
   "source": [
    "## Chorro de orina lento o débil"
   ]
  },
  {
   "cell_type": "code",
   "execution_count": 56,
   "metadata": {},
   "outputs": [
    {
     "data": {
      "text/plain": [
       "Sí     48\n",
       "No    242\n",
       "Name: miccion_lenta, dtype: int64"
      ]
     },
     "execution_count": 56,
     "metadata": {},
     "output_type": "execute_result"
    }
   ],
   "source": [
    "df['miccion_lenta'].value_counts(sort=False)"
   ]
  },
  {
   "cell_type": "code",
   "execution_count": 57,
   "metadata": {},
   "outputs": [
    {
     "data": {
      "text/plain": [
       "Sí    0.17\n",
       "No    0.83\n",
       "Name: miccion_lenta, dtype: float64"
      ]
     },
     "execution_count": 57,
     "metadata": {},
     "output_type": "execute_result"
    }
   ],
   "source": [
    "df['miccion_lenta'].value_counts(sort=False, normalize=True).round(2)"
   ]
  },
  {
   "cell_type": "code",
   "execution_count": 58,
   "metadata": {},
   "outputs": [
    {
     "data": {
      "image/png": "[encoded data removed]",
      "text/plain": [
       "<Figure size 864x576 with 1 Axes>"
      ]
     },
     "metadata": {},
     "output_type": "display_data"
    }
   ],
   "source": [
    "sns.countplot(x='miccion_lenta', data=df)\n",
    "plt.xlabel('Chorro de orina lento o débil')\n",
    "plt.ylabel('Núm. pacientes')\n",
    "plt.show()"
   ]
  },
  {
   "cell_type": "markdown",
   "metadata": {},
   "source": [
    "## Orinar frecuentemente (>10 veces/día)"
   ]
  },
  {
   "cell_type": "code",
   "execution_count": 59,
   "metadata": {},
   "outputs": [
    {
     "data": {
      "text/plain": [
       "Sí     62\n",
       "No    228\n",
       "Name: miccion_frec, dtype: int64"
      ]
     },
     "execution_count": 59,
     "metadata": {},
     "output_type": "execute_result"
    }
   ],
   "source": [
    "df['miccion_frec'].value_counts(sort=False)"
   ]
  },
  {
   "cell_type": "code",
   "execution_count": 60,
   "metadata": {},
   "outputs": [
    {
     "data": {
      "text/plain": [
       "Sí    0.21\n",
       "No    0.79\n",
       "Name: miccion_frec, dtype: float64"
      ]
     },
     "execution_count": 60,
     "metadata": {},
     "output_type": "execute_result"
    }
   ],
   "source": [
    "df['miccion_frec'].value_counts(sort=False, normalize=True).round(2)"
   ]
  },
  {
   "cell_type": "code",
   "execution_count": 61,
   "metadata": {},
   "outputs": [
    {
     "data": {
      "image/png": "[encoded data removed]",
      "text/plain": [
       "<Figure size 864x576 with 1 Axes>"
      ]
     },
     "metadata": {},
     "output_type": "display_data"
    }
   ],
   "source": [
    "sns.countplot(x='miccion_frec', data=df)\n",
    "plt.xlabel('Orinar frecuentemente (>10 veces/día)')\n",
    "plt.ylabel('Núm. pacientes')\n",
    "plt.show()"
   ]
  },
  {
   "cell_type": "markdown",
   "metadata": {},
   "source": [
    "## Nicturia"
   ]
  },
  {
   "cell_type": "code",
   "execution_count": 62,
   "metadata": {},
   "outputs": [
    {
     "data": {
      "text/plain": [
       "Sí     88\n",
       "No    202\n",
       "Name: nicturia, dtype: int64"
      ]
     },
     "execution_count": 62,
     "metadata": {},
     "output_type": "execute_result"
    }
   ],
   "source": [
    "df['nicturia'].value_counts(sort=False)"
   ]
  },
  {
   "cell_type": "code",
   "execution_count": 63,
   "metadata": {},
   "outputs": [
    {
     "data": {
      "text/plain": [
       "Sí    0.3\n",
       "No    0.7\n",
       "Name: nicturia, dtype: float64"
      ]
     },
     "execution_count": 63,
     "metadata": {},
     "output_type": "execute_result"
    }
   ],
   "source": [
    "df['nicturia'].value_counts(sort=False, normalize=True).round(2)"
   ]
  },
  {
   "cell_type": "code",
   "execution_count": 64,
   "metadata": {},
   "outputs": [
    {
     "data": {
      "image/png": "[encoded data removed]",
      "text/plain": [
       "<Figure size 864x576 with 1 Axes>"
      ]
     },
     "metadata": {},
     "output_type": "display_data"
    }
   ],
   "source": [
    "sns.countplot(x='nicturia', data=df)\n",
    "plt.xlabel('Nicturia (orinar a la noche >2 veces)')\n",
    "plt.ylabel('Núm. pacientes')\n",
    "plt.show()"
   ]
  },
  {
   "cell_type": "markdown",
   "metadata": {},
   "source": [
    "## Hematuria"
   ]
  },
  {
   "cell_type": "code",
   "execution_count": 65,
   "metadata": {},
   "outputs": [
    {
     "data": {
      "text/plain": [
       "Sí      1\n",
       "No    289\n",
       "Name: hematuria, dtype: int64"
      ]
     },
     "execution_count": 65,
     "metadata": {},
     "output_type": "execute_result"
    }
   ],
   "source": [
    "df['hematuria'].value_counts(sort=False)"
   ]
  },
  {
   "cell_type": "code",
   "execution_count": 66,
   "metadata": {},
   "outputs": [
    {
     "data": {
      "text/plain": [
       "Sí    0.0\n",
       "No    1.0\n",
       "Name: hematuria, dtype: float64"
      ]
     },
     "execution_count": 66,
     "metadata": {},
     "output_type": "execute_result"
    }
   ],
   "source": [
    "df['hematuria'].value_counts(sort=False, normalize=True).round(2)"
   ]
  },
  {
   "cell_type": "code",
   "execution_count": 67,
   "metadata": {},
   "outputs": [
    {
     "data": {
      "image/png": "[encoded data removed]",
      "text/plain": [
       "<Figure size 864x576 with 1 Axes>"
      ]
     },
     "metadata": {},
     "output_type": "display_data"
    }
   ],
   "source": [
    "sns.countplot(x='hematuria', data=df)\n",
    "plt.xlabel('Hematuria')\n",
    "plt.ylabel('Núm. pacientes')\n",
    "plt.show()"
   ]
  },
  {
   "cell_type": "markdown",
   "metadata": {},
   "source": [
    "## Dolor lumbar bajo"
   ]
  },
  {
   "cell_type": "code",
   "execution_count": 68,
   "metadata": {},
   "outputs": [
    {
     "data": {
      "text/plain": [
       "Sí     58\n",
       "No    232\n",
       "Name: dolor_oseo, dtype: int64"
      ]
     },
     "execution_count": 68,
     "metadata": {},
     "output_type": "execute_result"
    }
   ],
   "source": [
    "df['dolor_oseo'].value_counts(sort=False)"
   ]
  },
  {
   "cell_type": "code",
   "execution_count": 69,
   "metadata": {},
   "outputs": [
    {
     "data": {
      "text/plain": [
       "Sí    0.2\n",
       "No    0.8\n",
       "Name: dolor_oseo, dtype: float64"
      ]
     },
     "execution_count": 69,
     "metadata": {},
     "output_type": "execute_result"
    }
   ],
   "source": [
    "df['dolor_oseo'].value_counts(sort=False, normalize=True).round(2)"
   ]
  },
  {
   "cell_type": "code",
   "execution_count": 70,
   "metadata": {},
   "outputs": [
    {
     "data": {
      "image/png": "[encoded data removed]",
      "text/plain": [
       "<Figure size 864x576 with 1 Axes>"
      ]
     },
     "metadata": {},
     "output_type": "display_data"
    }
   ],
   "source": [
    "sns.countplot(x='dolor_oseo', data=df)\n",
    "plt.xlabel('Dolor en la región lumbar baja')\n",
    "plt.ylabel('Núm. pacientes')\n",
    "plt.show()"
   ]
  },
  {
   "cell_type": "markdown",
   "metadata": {},
   "source": [
    "# Antígeno prostático específico (PSA)"
   ]
  },
  {
   "cell_type": "markdown",
   "metadata": {},
   "source": [
    "## Valor sérico"
   ]
  },
  {
   "cell_type": "code",
   "execution_count": 71,
   "metadata": {},
   "outputs": [
    {
     "data": {
      "text/plain": [
       "count    294.00\n",
       "mean       2.30\n",
       "std        3.41\n",
       "min        0.22\n",
       "25%        0.87\n",
       "50%        1.31\n",
       "75%        2.20\n",
       "max       27.07\n",
       "Name: psa_valor, dtype: float64"
      ]
     },
     "execution_count": 71,
     "metadata": {},
     "output_type": "execute_result"
    }
   ],
   "source": [
    "df['psa_valor'].describe().round(2)"
   ]
  },
  {
   "cell_type": "code",
   "execution_count": 72,
   "metadata": {},
   "outputs": [
    {
     "data": {
      "image/png": "[encoded data removed]",
      "text/plain": [
       "<Figure size 864x576 with 1 Axes>"
      ]
     },
     "metadata": {},
     "output_type": "display_data"
    }
   ],
   "source": [
    "sns.histplot(x='psa_valor', data=df, binwidth=0.5)\n",
    "plt.xlabel('PSA sérico, mg/dL')\n",
    "plt.ylabel('Núm. pacientes')\n",
    "plt.show()"
   ]
  },
  {
   "cell_type": "markdown",
   "metadata": {},
   "source": [
    "## Categoría diagnóstica"
   ]
  },
  {
   "cell_type": "code",
   "execution_count": 73,
   "metadata": {},
   "outputs": [
    {
     "data": {
      "text/plain": [
       "En rango normal         267\n",
       "Ligeramente elevado      17\n",
       "Marcadamente elevado     10\n",
       "Name: psa_categoria, dtype: int64"
      ]
     },
     "execution_count": 73,
     "metadata": {},
     "output_type": "execute_result"
    }
   ],
   "source": [
    "df['psa_categoria'] = df['psa_categoria'].astype('category')\n",
    "df['psa_categoria'].cat.reorder_categories(['En rango normal','Ligeramente elevado','Marcadamente elevado'], ordered=True, inplace=True)\n",
    "df['psa_categoria'].value_counts(sort=False)"
   ]
  },
  {
   "cell_type": "code",
   "execution_count": 74,
   "metadata": {},
   "outputs": [
    {
     "data": {
      "text/plain": [
       "En rango normal         0.91\n",
       "Ligeramente elevado     0.06\n",
       "Marcadamente elevado    0.03\n",
       "Name: psa_categoria, dtype: float64"
      ]
     },
     "execution_count": 74,
     "metadata": {},
     "output_type": "execute_result"
    }
   ],
   "source": [
    "df['psa_categoria'].value_counts(sort=False, normalize=True).round(2)"
   ]
  },
  {
   "cell_type": "code",
   "execution_count": 75,
   "metadata": {},
   "outputs": [
    {
     "data": {
      "image/png": "[encoded data removed]",
      "text/plain": [
       "<Figure size 864x576 with 1 Axes>"
      ]
     },
     "metadata": {},
     "output_type": "display_data"
    }
   ],
   "source": [
    "sns.countplot(x='psa_categoria', data=df)\n",
    "plt.xlabel('Categoría diagnóstica del valor de PSA')\n",
    "plt.ylabel('Núm. pacientes')\n",
    "plt.show()"
   ]
  }
 ],
 "metadata": {
  "kernelspec": {
   "display_name": "Python 3",
   "language": "python",
   "name": "python3"
  },
  "language_info": {
   "codemirror_mode": {
    "name": "ipython",
    "version": 3
   },
   "file_extension": ".py",
   "mimetype": "text/x-python",
   "name": "python",
   "nbconvert_exporter": "python",
   "pygments_lexer": "ipython3",
   "version": "3.8.8"
  }
 },
 "nbformat": 4,
 "nbformat_minor": 4
}
